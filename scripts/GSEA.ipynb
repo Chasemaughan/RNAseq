{
 "cells": [
  {
   "cell_type": "code",
   "execution_count": 38,
   "id": "a3864287",
   "metadata": {},
   "outputs": [
    {
     "name": "stderr",
     "output_type": "stream",
     "text": [
      "Input sequence provided is already in string format. No operation performed\n",
      "Input sequence provided is already in string format. No operation performed\n",
      "10 input query terms found dup hits:\t[('ENSG00000226519', 2), ('ENSG00000276241', 4), ('ENSG00000261600', 2), ('ENSG00000249738', 2), ('E\n",
      "408 input query terms found no hit:\t['ENSG00000273123', 'ENSG00000260923', 'ENSG00000286911', 'ENSG00000287400', 'ENSG00000260163', 'ENS\n"
     ]
    },
    {
     "name": "stdout",
     "output_type": "stream",
     "text": [
      "Genes not found: Empty DataFrame\n",
      "Columns: [query, _id, _score, symbol, notfound]\n",
      "Index: []\n",
      "Empty DataFrame\n",
      "Columns: [symbol, score]\n",
      "Index: []\n"
     ]
    }
   ],
   "source": [
    "\n",
    "import pandas as pd\n",
    "import mygene\n",
    "\n",
    "# Load the ranked gene list with Ensembl IDs\n",
    "df = pd.read_csv(\"ranked_gene_list1.rnk\", sep=\"\\t\", header=None, names=[\"ensembl\", \"score\"])\n",
    "\n",
    "# Remove version numbers from Ensembl IDs (e.g., ENSG00000147256.12 -> ENSG00000147256)\n",
    "df[\"ensembl\"] = df[\"ensembl\"].str.split(\"\\\\.\").str[0]\n",
    "\n",
    "# Query MyGene.info to map Ensembl → gene symbol\n",
    "mg = mygene.MyGeneInfo()\n",
    "query = mg.querymany(df[\"ensembl\"].tolist(), scopes=\"ensembl.gene\", fields=\"symbol\", species=\"human\")\n"
   ]
  },
  {
   "cell_type": "code",
   "execution_count": 41,
   "id": "d7e8e561",
   "metadata": {},
   "outputs": [
    {
     "name": "stdout",
     "output_type": "stream",
     "text": [
      "             query              _id     _score      symbol notfound\n",
      "0  ENSG00000147256           158763  32.865475    ARHGAP36      NaN\n",
      "1  ENSG00000235689  ENSG00000235689  32.865475         NaN      NaN\n",
      "2  ENSG00000235984        100873969  32.865475    GPC5-AS1      NaN\n",
      "3  ENSG00000132437             1644  32.865475         DDC      NaN\n",
      "4  ENSG00000204544           394263  32.865475       MUC21      NaN\n",
      "5  ENSG00000282639        102723170  32.865475   IGHV3-64D      NaN\n",
      "6  ENSG00000105388             1048  32.865475     CEACAM5      NaN\n",
      "7  ENSG00000282651  ENSG00000282651  32.865475  IGHV5-10-1      NaN\n",
      "8  ENSG00000134258            79679  32.865475       VTCN1      NaN\n",
      "9  ENSG00000187714             6572  32.865475     SLC18A3      NaN\n",
      "Genes not found: Empty DataFrame\n",
      "Columns: [query, _id, _score, symbol, notfound]\n",
      "Index: []\n",
      "     symbol      score\n",
      "0  ARHGAP36  13.883519\n",
      "1       NaN  11.368943\n",
      "2  GPC5-AS1  10.930820\n",
      "3       DDC  10.412914\n",
      "4     MUC21  10.379204\n"
     ]
    }
   ],
   "source": [
    "\n",
    "# Convert to DataFrame and merge\n",
    "mapped = pd.DataFrame(query)\n",
    "print(mapped.head(10))\n",
    "\n",
    "# Check for missing values or notfound genes\n",
    "notfound_genes = mapped[mapped['notfound'] == False]\n",
    "print(f\"Genes not found: {notfound_genes}\")\n",
    "\n",
    "# Filter out notfound genes and merge with the original data\n",
    "#mapped = mapped[mapped['notfound'] == True][['query', 'symbol']].dropna()\n",
    "merged = df.merge(mapped, left_on=\"ensembl\", right_on=\"query\").drop(columns=[\"query\"])\n",
    "\n",
    "# Final ranked list: gene symbol + score\n",
    "final_df = merged[[\"symbol\", \"score\"]]\n",
    "\n",
    "# Sort by score in descending order\n",
    "final_df = final_df.sort_values(\"score\", ascending=False)\n",
    "\n",
    "# Save the final ranked list\n",
    "final_df.to_csv(\"ranked_gene_list_symbols.rnk\", sep=\"\\t\", index=False, header=False)\n",
    "\n",
    "# Optionally, print the final dataframe\n",
    "print(final_df.head())\n",
    "\n",
    "\n"
   ]
  },
  {
   "cell_type": "code",
   "execution_count": 42,
   "id": "d5c60695",
   "metadata": {},
   "outputs": [
    {
     "name": "stdout",
     "output_type": "stream",
     "text": [
      "         symbol      score\n",
      "0      ARHGAP36  13.883519\n",
      "1           NaN  11.368943\n",
      "2      GPC5-AS1  10.930820\n",
      "3           DDC  10.412914\n",
      "4         MUC21  10.379204\n",
      "...         ...        ...\n",
      "24268       NaN -11.047726\n",
      "24269    TUBBP5 -12.241712\n",
      "24270    PSPHP1 -13.143629\n",
      "24271       NaN -21.147364\n",
      "24272  SIGLEC14 -23.068357\n",
      "\n",
      "[24273 rows x 2 columns]\n"
     ]
    }
   ],
   "source": [
    "# Inspect the first few rows to understand the structure\n",
    "print(final_df)\n"
   ]
  },
  {
   "cell_type": "code",
   "execution_count": 43,
   "id": "4174cb05",
   "metadata": {},
   "outputs": [
    {
     "name": "stderr",
     "output_type": "stream",
     "text": [
      "2025-04-22 02:17:20,676 [WARNING] Input gene rankings contains NA values(gene name and ranking value), drop them all!\n"
     ]
    },
    {
     "name": "stderr",
     "output_type": "stream",
     "text": [
      "2025-04-22 02:17:20,719 [INFO] Input gene rankings contains duplicated IDs\n",
      "2025-04-22 02:17:20,727 [WARNING] Duplicated values found in preranked stats: 0.95% of genes\n",
      "The order of those genes will be arbitrary, which may produce unexpected results.\n",
      "2025-04-22 02:17:20,727 [INFO] Parsing data files for GSEA.............................\n",
      "2025-04-22 02:17:20,756 [INFO] Enrichr library gene sets already downloaded in: /uufs/chpc.utah.edu/common/home/u0962361/.cache/gseapy, use local file\n",
      "2025-04-22 02:17:20,772 [INFO] 0003 gene_sets have been filtered out when max_size=500 and min_size=5\n",
      "2025-04-22 02:17:20,772 [INFO] 0305 gene_sets used for further statistical testing.....\n",
      "2025-04-22 02:17:20,773 [INFO] Start to run GSEA...Might take a while..................\n",
      "2025-04-22 02:17:26,360 [INFO] Congratulations. GSEApy runs successfully................\n",
      "\n"
     ]
    }
   ],
   "source": [
    "import gseapy as gp\n",
    "\n",
    "pre_res = gp.prerank(\n",
    "    rnk=\"ranked_gene_list_symbols.rnk\",\n",
    "    gene_sets=\"KEGG_2019_Human\",\n",
    "    outdir=\"gsea_results\",\n",
    "    permutation_num=100,\n",
    "    seed=2,\n",
    "    min_size=5,  # Lower the minimum size of gene sets\n",
    "    max_size=500,  # Increase the maximum size of gene sets\n",
    "    verbose=True\n",
    ")\n"
   ]
  },
  {
   "cell_type": "code",
   "execution_count": null,
   "id": "8106900f",
   "metadata": {},
   "outputs": [],
   "source": []
  }
 ],
 "metadata": {
  "kernelspec": {
   "display_name": "kc_rna_seq",
   "language": "python",
   "name": "python3"
  },
  "language_info": {
   "codemirror_mode": {
    "name": "ipython",
    "version": 3
   },
   "file_extension": ".py",
   "mimetype": "text/x-python",
   "name": "python",
   "nbconvert_exporter": "python",
   "pygments_lexer": "ipython3",
   "version": "3.13.2"
  }
 },
 "nbformat": 4,
 "nbformat_minor": 5
}
