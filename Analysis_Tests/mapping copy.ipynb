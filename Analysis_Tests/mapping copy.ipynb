{
 "cells": [
  {
   "cell_type": "code",
   "execution_count": 2,
   "metadata": {},
   "outputs": [
    {
     "ename": "ValueError",
     "evalue": "fetch called on bamfile without index",
     "output_type": "error",
     "traceback": [
      "\u001b[31m---------------------------------------------------------------------------\u001b[39m",
      "\u001b[31mValueError\u001b[39m                                Traceback (most recent call last)",
      "\u001b[36mCell\u001b[39m\u001b[36m \u001b[39m\u001b[32mIn[2]\u001b[39m\u001b[32m, line 20\u001b[39m\n\u001b[32m     17\u001b[39m map_qualities = []\n\u001b[32m     19\u001b[39m \u001b[38;5;66;03m# Fetch reads from the specified region (chromosome: 0 to 1 million base pairs)\u001b[39;00m\n\u001b[32m---> \u001b[39m\u001b[32m20\u001b[39m \u001b[38;5;28;01mfor\u001b[39;00m read \u001b[38;5;129;01min\u001b[39;00m \u001b[43msamfile\u001b[49m\u001b[43m.\u001b[49m\u001b[43mfetch\u001b[49m\u001b[43m(\u001b[49m\u001b[43mstart\u001b[49m\u001b[43m=\u001b[49m\u001b[43mstart\u001b[49m\u001b[43m,\u001b[49m\u001b[43m \u001b[49m\u001b[43mend\u001b[49m\u001b[43m=\u001b[49m\u001b[43mend\u001b[49m\u001b[43m)\u001b[49m:\n\u001b[32m     21\u001b[39m     \u001b[38;5;28;01mif\u001b[39;00m \u001b[38;5;129;01mnot\u001b[39;00m read.is_unmapped:\n\u001b[32m     22\u001b[39m         map_qualities.append(read.mapping_quality)\n",
      "\u001b[36mFile \u001b[39m\u001b[32m/uufs/chpc.utah.edu/common/home/clementm-group1/conda/mambaforge/envs/kc_rna_seq/lib/python3.13/site-packages/pysam/libcalignmentfile.pyx:1103\u001b[39m, in \u001b[36mpysam.libcalignmentfile.AlignmentFile.fetch\u001b[39m\u001b[34m()\u001b[39m\n",
      "\u001b[31mValueError\u001b[39m: fetch called on bamfile without index"
     ]
    }
   ],
   "source": [
    "import pysam\n",
    "import numpy as np\n",
    "import matplotlib.pyplot as plt\n",
    "\n",
    "# File path to BAM file\n",
    "bam_file = \"/uufs/chpc.utah.edu/common/home/u0962361/RNAseq/Semester_Project/output_Aligned.sortedByCoord.out.bam\"\n",
    "\n",
    "# Open the BAM file\n",
    "samfile = pysam.AlignmentFile(bam_file, \"rb\")\n",
    "\n",
    "# Define the chromosome and region you're interested in\n",
    "chromosome = 'chr1'  # example chromosome\n",
    "start = 0            # start position\n",
    "end = 1000000        # end position (1 million bases)\n",
    "\n",
    "# List to store mapping qualities\n",
    "map_qualities = []\n",
    "\n",
    "# Fetch reads from the specified region (chromosome: 0 to 1 million base pairs)\n",
    "for read in samfile.fetch(start=start, end=end):\n",
    "    if not read.is_unmapped:\n",
    "        map_qualities.append(read.mapping_quality)\n",
    "\n",
    "# Convert list to numpy array for efficient histogram plotting\n",
    "map_qualities = np.array(map_qualities)\n",
    "\n",
    "# Plot distribution of mapping quality\n",
    "plt.figure(figsize=(10, 6))\n",
    "plt.hist(map_qualities, bins=50, color=\"orange\", edgecolor=\"black\")\n",
    "plt.title(f\"Mapping Quality Distribution for {chromosome} Region {start}-{end}\")\n",
    "plt.xlabel(\"Mapping Quality\")\n",
    "plt.ylabel(\"Frequency\")\n",
    "plt.show()\n",
    "\n",
    "# Close BAM file\n",
    "samfile.close()\n",
    "\n",
    "\n"
   ]
  },
  {
   "cell_type": "code",
   "execution_count": null,
   "metadata": {},
   "outputs": [],
   "source": []
  }
 ],
 "metadata": {
  "kernelspec": {
   "display_name": "kc_rna_seq",
   "language": "python",
   "name": "python3"
  },
  "language_info": {
   "codemirror_mode": {
    "name": "ipython",
    "version": 3
   },
   "file_extension": ".py",
   "mimetype": "text/x-python",
   "name": "python",
   "nbconvert_exporter": "python",
   "pygments_lexer": "ipython3",
   "version": "3.13.2"
  }
 },
 "nbformat": 4,
 "nbformat_minor": 2
}
